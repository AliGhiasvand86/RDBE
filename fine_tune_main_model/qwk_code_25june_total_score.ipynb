{
  "nbformat": 4,
  "nbformat_minor": 0,
  "metadata": {
    "colab": {
      "provenance": []
    },
    "kernelspec": {
      "name": "python3",
      "display_name": "Python 3"
    },
    "language_info": {
      "name": "python"
    }
  },
  "cells": [
    {
      "cell_type": "code",
      "source": [
        "!pip install datasets\n"
      ],
      "metadata": {
        "colab": {
          "base_uri": "https://localhost:8080/",
          "height": 1000
        },
        "id": "TTm-cF8jkRJg",
        "outputId": "b9a9391f-451d-455b-8b51-e45c8e7008d0"
      },
      "execution_count": 2,
      "outputs": [
        {
          "output_type": "stream",
          "name": "stdout",
          "text": [
            "Collecting datasets\n",
            "  Downloading datasets-2.20.0-py3-none-any.whl (547 kB)\n",
            "\u001b[2K     \u001b[90m━━━━━━━━━━━━━━━━━━━━━━━━━━━━━━━━━━━━━━━━\u001b[0m \u001b[32m547.8/547.8 kB\u001b[0m \u001b[31m3.1 MB/s\u001b[0m eta \u001b[36m0:00:00\u001b[0m\n",
            "\u001b[?25hRequirement already satisfied: filelock in /usr/local/lib/python3.10/dist-packages (from datasets) (3.15.3)\n",
            "Requirement already satisfied: numpy>=1.17 in /usr/local/lib/python3.10/dist-packages (from datasets) (1.25.2)\n",
            "Collecting pyarrow>=15.0.0 (from datasets)\n",
            "  Downloading pyarrow-16.1.0-cp310-cp310-manylinux_2_28_x86_64.whl (40.8 MB)\n",
            "\u001b[2K     \u001b[90m━━━━━━━━━━━━━━━━━━━━━━━━━━━━━━━━━━━━━━━━\u001b[0m \u001b[32m40.8/40.8 MB\u001b[0m \u001b[31m14.5 MB/s\u001b[0m eta \u001b[36m0:00:00\u001b[0m\n",
            "\u001b[?25hRequirement already satisfied: pyarrow-hotfix in /usr/local/lib/python3.10/dist-packages (from datasets) (0.6)\n",
            "Collecting dill<0.3.9,>=0.3.0 (from datasets)\n",
            "  Downloading dill-0.3.8-py3-none-any.whl (116 kB)\n",
            "\u001b[2K     \u001b[90m━━━━━━━━━━━━━━━━━━━━━━━━━━━━━━━━━━━━━━━━\u001b[0m \u001b[32m116.3/116.3 kB\u001b[0m \u001b[31m14.6 MB/s\u001b[0m eta \u001b[36m0:00:00\u001b[0m\n",
            "\u001b[?25hRequirement already satisfied: pandas in /usr/local/lib/python3.10/dist-packages (from datasets) (2.0.3)\n",
            "Collecting requests>=2.32.2 (from datasets)\n",
            "  Downloading requests-2.32.3-py3-none-any.whl (64 kB)\n",
            "\u001b[2K     \u001b[90m━━━━━━━━━━━━━━━━━━━━━━━━━━━━━━━━━━━━━━━━\u001b[0m \u001b[32m64.9/64.9 kB\u001b[0m \u001b[31m7.5 MB/s\u001b[0m eta \u001b[36m0:00:00\u001b[0m\n",
            "\u001b[?25hRequirement already satisfied: tqdm>=4.66.3 in /usr/local/lib/python3.10/dist-packages (from datasets) (4.66.4)\n",
            "Collecting xxhash (from datasets)\n",
            "  Downloading xxhash-3.4.1-cp310-cp310-manylinux_2_17_x86_64.manylinux2014_x86_64.whl (194 kB)\n",
            "\u001b[2K     \u001b[90m━━━━━━━━━━━━━━━━━━━━━━━━━━━━━━━━━━━━━━━━\u001b[0m \u001b[32m194.1/194.1 kB\u001b[0m \u001b[31m10.3 MB/s\u001b[0m eta \u001b[36m0:00:00\u001b[0m\n",
            "\u001b[?25hCollecting multiprocess (from datasets)\n",
            "  Downloading multiprocess-0.70.16-py310-none-any.whl (134 kB)\n",
            "\u001b[2K     \u001b[90m━━━━━━━━━━━━━━━━━━━━━━━━━━━━━━━━━━━━━━━━\u001b[0m \u001b[32m134.8/134.8 kB\u001b[0m \u001b[31m13.5 MB/s\u001b[0m eta \u001b[36m0:00:00\u001b[0m\n",
            "\u001b[?25hRequirement already satisfied: fsspec[http]<=2024.5.0,>=2023.1.0 in /usr/local/lib/python3.10/dist-packages (from datasets) (2023.6.0)\n",
            "Requirement already satisfied: aiohttp in /usr/local/lib/python3.10/dist-packages (from datasets) (3.9.5)\n",
            "Requirement already satisfied: huggingface-hub>=0.21.2 in /usr/local/lib/python3.10/dist-packages (from datasets) (0.23.4)\n",
            "Requirement already satisfied: packaging in /usr/local/lib/python3.10/dist-packages (from datasets) (24.1)\n",
            "Requirement already satisfied: pyyaml>=5.1 in /usr/local/lib/python3.10/dist-packages (from datasets) (6.0.1)\n",
            "Requirement already satisfied: aiosignal>=1.1.2 in /usr/local/lib/python3.10/dist-packages (from aiohttp->datasets) (1.3.1)\n",
            "Requirement already satisfied: attrs>=17.3.0 in /usr/local/lib/python3.10/dist-packages (from aiohttp->datasets) (23.2.0)\n",
            "Requirement already satisfied: frozenlist>=1.1.1 in /usr/local/lib/python3.10/dist-packages (from aiohttp->datasets) (1.4.1)\n",
            "Requirement already satisfied: multidict<7.0,>=4.5 in /usr/local/lib/python3.10/dist-packages (from aiohttp->datasets) (6.0.5)\n",
            "Requirement already satisfied: yarl<2.0,>=1.0 in /usr/local/lib/python3.10/dist-packages (from aiohttp->datasets) (1.9.4)\n",
            "Requirement already satisfied: async-timeout<5.0,>=4.0 in /usr/local/lib/python3.10/dist-packages (from aiohttp->datasets) (4.0.3)\n",
            "Requirement already satisfied: typing-extensions>=3.7.4.3 in /usr/local/lib/python3.10/dist-packages (from huggingface-hub>=0.21.2->datasets) (4.12.2)\n",
            "Requirement already satisfied: charset-normalizer<4,>=2 in /usr/local/lib/python3.10/dist-packages (from requests>=2.32.2->datasets) (3.3.2)\n",
            "Requirement already satisfied: idna<4,>=2.5 in /usr/local/lib/python3.10/dist-packages (from requests>=2.32.2->datasets) (3.7)\n",
            "Requirement already satisfied: urllib3<3,>=1.21.1 in /usr/local/lib/python3.10/dist-packages (from requests>=2.32.2->datasets) (2.0.7)\n",
            "Requirement already satisfied: certifi>=2017.4.17 in /usr/local/lib/python3.10/dist-packages (from requests>=2.32.2->datasets) (2024.6.2)\n",
            "Requirement already satisfied: python-dateutil>=2.8.2 in /usr/local/lib/python3.10/dist-packages (from pandas->datasets) (2.8.2)\n",
            "Requirement already satisfied: pytz>=2020.1 in /usr/local/lib/python3.10/dist-packages (from pandas->datasets) (2023.4)\n",
            "Requirement already satisfied: tzdata>=2022.1 in /usr/local/lib/python3.10/dist-packages (from pandas->datasets) (2024.1)\n",
            "Requirement already satisfied: six>=1.5 in /usr/local/lib/python3.10/dist-packages (from python-dateutil>=2.8.2->pandas->datasets) (1.16.0)\n",
            "Installing collected packages: xxhash, requests, pyarrow, dill, multiprocess, datasets\n",
            "  Attempting uninstall: requests\n",
            "    Found existing installation: requests 2.31.0\n",
            "    Uninstalling requests-2.31.0:\n",
            "      Successfully uninstalled requests-2.31.0\n",
            "  Attempting uninstall: pyarrow\n",
            "    Found existing installation: pyarrow 14.0.2\n",
            "    Uninstalling pyarrow-14.0.2:\n",
            "      Successfully uninstalled pyarrow-14.0.2\n",
            "\u001b[31mERROR: pip's dependency resolver does not currently take into account all the packages that are installed. This behaviour is the source of the following dependency conflicts.\n",
            "cudf-cu12 24.4.1 requires pyarrow<15.0.0a0,>=14.0.1, but you have pyarrow 16.1.0 which is incompatible.\n",
            "google-colab 1.0.0 requires requests==2.31.0, but you have requests 2.32.3 which is incompatible.\n",
            "ibis-framework 8.0.0 requires pyarrow<16,>=2, but you have pyarrow 16.1.0 which is incompatible.\u001b[0m\u001b[31m\n",
            "\u001b[0mSuccessfully installed datasets-2.20.0 dill-0.3.8 multiprocess-0.70.16 pyarrow-16.1.0 requests-2.32.3 xxhash-3.4.1\n"
          ]
        },
        {
          "output_type": "display_data",
          "data": {
            "application/vnd.colab-display-data+json": {
              "pip_warning": {
                "packages": [
                  "pyarrow"
                ]
              },
              "id": "09ccc459bd4342feadf27949fba7750e"
            }
          },
          "metadata": {}
        }
      ]
    },
    {
      "cell_type": "code",
      "execution_count": 151,
      "metadata": {
        "id": "K0A7TANUjF0g"
      },
      "outputs": [],
      "source": [
        "import pandas as pd\n",
        "from sklearn.model_selection import train_test_split\n",
        "from datasets import load_dataset\n",
        "\n",
        "dataset = load_dataset('AliGhiasvand86/last_model_epoch15_24june_infernecetest_answers_without_best')\n",
        "df_inference = pd.DataFrame(dataset['train'])\n",
        "\n",
        "# Load the dataset\n",
        "df = pd.read_csv('/content/DREsS_LLAMA_Inference_v2_23june.csv')\n",
        "\n",
        "# Split data in 60:20:20 ratio\n",
        "train_df, temp_df = train_test_split(df, test_size=0.4, random_state=22)\n",
        "test_df, val_df = train_test_split(temp_df, test_size=0.5, random_state=22)\n",
        "\n",
        "# Extract content scores from test_df\n",
        "content_scores = test_df['content'].tolist()\n",
        "organization_scores = test_df['organization']\n",
        "language_scores = test_df['language']\n"
      ]
    },
    {
      "cell_type": "code",
      "source": [
        "len(content_scores)"
      ],
      "metadata": {
        "colab": {
          "base_uri": "https://localhost:8080/"
        },
        "id": "mdPrHVKPkAqJ",
        "outputId": "19e47129-ffcc-4e9b-e500-67053c1a8b85"
      },
      "execution_count": 114,
      "outputs": [
        {
          "output_type": "execute_result",
          "data": {
            "text/plain": [
              "396"
            ]
          },
          "metadata": {},
          "execution_count": 114
        }
      ]
    },
    {
      "cell_type": "code",
      "source": [
        "content_score_inference = []\n",
        "organization_score_inference = []\n",
        "language_score_inference = []"
      ],
      "metadata": {
        "id": "nAL75x106frH"
      },
      "execution_count": 166,
      "outputs": []
    },
    {
      "cell_type": "code",
      "source": [
        "import pandas as pd\n",
        "\n",
        "# فرض می‌کنیم df_inference دیتافریمی است که شامل داده‌های شما است\n",
        "# و ستون 'inputs' شامل جمله‌های مورد نظر است\n",
        "\n",
        "# تعریف لیستی برای ذخیره نمرات استخراج شده\n",
        "\n",
        "\n",
        "# تکرار بر روی تک تک ردیف‌های دیتافریم\n",
        "for index, row in df_inference.iterrows():\n",
        "    # گرفتن جمله از ستون 'inputs'\n",
        "    sentence = row[\"inputs\"]\n",
        "\n",
        "    # بررسی وجود عبارت \"Content\" در جمله\n",
        "    if \"[Scoring Rubric]\\nContent: \" in sentence:\n",
        "        # اسپلیت کردن جمله بر اساس '---> '\n",
        "        parts = row[\"outputs\"].split('---> ')\n",
        "\n",
        "        # گرفتن آخرین بخش و تبدیل آن به عدد صحیح\n",
        "        score = float(parts[-1].strip())\n",
        "\n",
        "        # اضافه کردن نمره به لیست\n",
        "        content_score_inference.append(score)\n",
        "\n",
        "for index, row in df_inference.iterrows():\n",
        "    # گرفتن جمله از ستون 'inputs'\n",
        "    sentence = row[\"inputs\"]\n",
        "\n",
        "    # بررسی وجود عبارت \"Content\" در جمله\n",
        "    if \"[Scoring Rubric]\\nOrganization: \" in sentence:\n",
        "        # اسپلیت کردن جمله بر اساس '---> '\n",
        "        parts = row[\"outputs\"].split('---> ')\n",
        "\n",
        "        # گرفتن آخرین بخش و تبدیل آن به عدد صحیح\n",
        "        score = float(parts[-1].strip())\n",
        "\n",
        "        # اضافه کردن نمره به لیست\n",
        "        organization_score_inference.append(score)\n",
        "for index, row in df_inference.iterrows():\n",
        "    # گرفتن جمله از ستون 'inputs'\n",
        "    sentence = row[\"inputs\"]\n",
        "\n",
        "    # بررسی وجود عبارت \"Content\" در جمله\n",
        "    if \"[Scoring Rubric]\\nLanguage: \" in sentence:\n",
        "        # اسپلیت کردن جمله بر اساس '---> '\n",
        "        parts = row[\"outputs\"].split('---> ')\n",
        "\n",
        "        # گرفتن آخرین بخش و تبدیل آن به عدد صحیح\n",
        "        score = float(parts[-1].strip())\n",
        "\n",
        "        # اضافه کردن نمره به لیست\n",
        "        language_score_inference.append(score)"
      ],
      "metadata": {
        "id": "L4CbKejDmFO4"
      },
      "execution_count": 167,
      "outputs": []
    },
    {
      "cell_type": "code",
      "source": [
        "\n",
        "# جمع متناظر عناصر سه لیست\n",
        "total_dataset = [x + y + z for x, y, z in zip(content_scores, organization_scores, language_scores)]\n",
        "\n",
        "print(total_dataset)\n"
      ],
      "metadata": {
        "colab": {
          "base_uri": "https://localhost:8080/"
        },
        "id": "uc12t0p29HPJ",
        "outputId": "50e563ea-8031-4093-8596-cc4f77fc4e5f"
      },
      "execution_count": 168,
      "outputs": [
        {
          "output_type": "stream",
          "name": "stdout",
          "text": [
            "[10.0, 11.5, 10.5, 10.0, 14.5, 13.0, 9.0, 12.0, 12.0, 7.5, 10.5, 11.0, 12.0, 12.5, 12.0, 8.0, 10.0, 12.0, 10.5, 14.5, 12.0, 12.5, 11.5, 9.0, 7.5, 7.5, 12.0, 12.5, 13.0, 12.0, 14.0, 13.0, 9.0, 13.0, 7.5, 8.0, 13.0, 12.0, 11.5, 14.0, 11.0, 11.5, 12.0, 10.5, 13.0, 5.5, 10.5, 11.5, 8.0, 11.0, 8.0, 9.5, 14.5, 6.5, 9.5, 12.0, 9.0, 4.5, 13.0, 8.5, 10.0, 9.5, 12.0, 8.0, 10.0, 7.5, 8.0, 13.0, 8.5, 7.5, 10.5, 9.0, 13.5, 9.0, 8.5, 12.0, 12.0, 7.5, 11.0, 14.5, 9.0, 11.0, 12.0, 11.5, 8.0, 11.5, 11.0, 6.5, 9.5, 12.5, 14.5, 11.5, 11.0, 9.0, 9.5, 7.0, 9.0, 10.5, 10.5, 13.5, 12.0, 10.5, 9.5, 10.0, 11.5, 13.5, 13.5, 14.0, 6.5, 12.0, 10.5, 12.0, 12.0, 11.5, 8.5, 11.5, 11.0, 12.0, 5.5, 9.5, 12.5, 3.5, 9.0, 7.5, 11.0, 12.5, 11.5, 8.0, 11.0, 12.5, 11.0, 11.0, 8.5, 14.0, 10.0, 11.0, 13.5, 5.5, 11.5, 9.5, 9.5, 10.0, 9.5, 8.5, 8.0, 7.5, 10.5, 8.5, 11.0, 8.0, 13.0, 10.0, 12.5, 8.0, 7.0, 13.5, 10.0, 6.5, 12.0, 13.5, 9.0, 5.5, 8.0, 13.0, 8.0, 10.0, 11.0, 10.5, 8.5, 12.0, 8.5, 5.5, 13.0, 6.0, 6.5, 9.5, 13.5, 9.5, 13.5, 9.0, 9.5, 12.5, 8.0, 12.0, 10.5, 10.0, 12.0, 12.5, 8.5, 12.5, 9.0, 12.0, 6.5, 11.5, 11.0, 13.0, 13.0, 10.5, 10.5, 14.0, 11.0, 9.5, 12.5, 6.5, 9.5, 12.5, 12.0, 9.5, 13.5, 12.0, 9.5, 11.0, 10.5, 12.5, 10.0, 12.0, 13.0, 6.0, 9.5, 12.5, 9.5, 11.0, 13.0, 13.5, 12.5, 7.5, 8.5, 12.0, 12.0, 11.5, 10.5, 12.0, 14.0, 4.5, 13.5, 13.0, 13.0, 12.0, 10.0, 7.5, 12.5, 9.0, 12.0, 10.5, 11.0, 13.0, 10.0, 10.0, 8.0, 12.0, 12.0, 8.5, 8.0, 10.5, 9.5, 9.5, 9.0, 12.5, 11.0, 11.5, 5.5, 5.5, 13.0, 10.0, 10.5, 11.5, 9.0, 13.5, 13.0, 11.5, 5.0, 10.5, 8.0, 10.5, 10.0, 8.5, 13.0, 11.0, 12.0, 12.0, 12.0, 13.5, 10.0, 10.5, 12.5, 8.5, 13.0, 6.5, 13.5, 9.0, 9.0, 9.5, 4.0, 11.0, 11.0, 8.5, 10.0, 11.5, 10.5, 9.5, 10.5, 13.5, 8.5, 10.5, 12.0, 13.0, 8.0, 9.5, 11.5, 10.5, 13.5, 12.0, 9.0, 12.0, 9.0, 4.0, 10.5, 13.0, 6.0, 9.5, 10.0, 12.5, 11.5, 8.5, 12.5, 8.0, 7.5, 12.0, 12.5, 12.0, 11.0, 9.0, 8.5, 9.5, 8.0, 8.0, 9.5, 7.0, 11.0, 9.0, 9.0, 8.0, 11.0, 12.0, 7.0, 10.0, 8.5, 9.5, 12.5, 12.0, 12.5, 9.0, 7.5, 8.0, 12.5, 5.0, 10.0, 12.5, 8.5, 7.5, 5.0, 8.0, 8.0, 9.5, 10.5, 9.0, 13.0, 8.0, 8.5, 10.5, 11.0, 11.0, 9.0, 8.5, 11.0, 12.0, 11.0, 13.0, 5.5, 9.0, 9.5, 14.5, 9.0, 13.0, 10.5, 10.0, 10.5, 10.5, 9.5, 11.0, 11.0, 9.0, 6.0, 5.0, 11.5, 8.0]\n"
          ]
        }
      ]
    },
    {
      "cell_type": "code",
      "source": [
        "total_inference = [x + y + z for x, y, z in zip(content_score_inference, organization_score_inference, language_score_inference)]\n",
        "\n",
        "print(total_inference)"
      ],
      "metadata": {
        "colab": {
          "base_uri": "https://localhost:8080/"
        },
        "id": "-XVY_gng-PDm",
        "outputId": "eb982759-1845-4512-89de-fe1567622ddc"
      },
      "execution_count": 169,
      "outputs": [
        {
          "output_type": "stream",
          "name": "stdout",
          "text": [
            "[11.0, 10.5, 10.5, 10.0, 13.0, 13.5, 9.5, 13.5, 12.0, 7.5, 10.0, 12.0, 12.0, 12.0, 12.0, 8.5, 11.5, 12.0, 13.0, 12.0, 9.5, 11.5, 11.5, 9.0, 9.0, 8.5, 11.5, 12.0, 13.0, 12.0, 13.5, 13.5, 11.5, 12.0, 9.5, 8.0, 13.5, 12.0, 11.0, 12.5, 12.0, 11.5, 12.5, 12.5, 13.0, 8.0, 9.0, 13.5, 9.5, 8.5, 8.0, 9.0, 12.5, 7.5, 8.5, 11.5, 8.0, 7.5, 12.5, 9.5, 10.5, 10.5, 12.0, 9.0, 12.5, 8.0, 8.0, 11.0, 8.0, 7.5, 10.5, 9.5, 12.0, 8.5, 8.0, 12.0, 12.5, 7.5, 8.0, 13.5, 12.0, 12.5, 12.0, 8.5, 7.5, 12.5, 10.0, 9.0, 8.5, 13.0, 12.0, 12.0, 9.0, 8.5, 9.5, 11.5, 11.0, 13.0, 11.5, 12.0, 11.5, 11.0, 11.5, 9.0, 12.0, 12.0, 12.5, 11.5, 11.5, 11.0, 9.0, 8.5, 11.5, 9.5, 7.5, 9.0, 11.0, 12.5, 8.5, 9.5, 9.5, 8.0, 9.0, 9.0, 7.5, 12.5, 8.5, 8.5, 11.0, 9.5, 12.0, 11.5, 7.5, 12.5, 11.5, 8.5, 13.0, 7.0, 13.5, 10.0, 11.0, 8.0, 9.0, 7.5, 8.5, 8.5, 9.5, 9.0, 12.5, 9.0, 12.0, 9.0, 12.5, 11.5, 9.0, 12.5, 11.5, 9.0, 12.5, 12.0, 8.0, 7.5, 7.5, 12.0, 7.0, 12.5, 13.0, 12.5, 7.5, 12.0, 10.0, 8.5, 13.0, 8.0, 9.5, 12.0, 11.5, 8.5, 12.0, 12.0, 8.5, 12.0, 9.0, 12.0, 9.5, 11.0, 12.5, 12.0, 10.0, 11.5, 8.5, 13.0, 9.5, 13.0, 12.0, 11.0, 10.5, 9.5, 9.0, 11.0, 12.0, 10.0, 13.0, 8.0, 12.5, 12.0, 11.5, 9.0, 12.0, 12.0, 8.0, 12.0, 12.0, 13.0, 12.0, 12.5, 13.0, 9.5, 8.5, 10.5, 7.5, 9.5, 12.5, 13.0, 11.5, 8.5, 8.5, 12.0, 12.5, 12.5, 12.5, 11.0, 12.0, 7.5, 13.0, 13.5, 11.0, 8.5, 11.0, 7.5, 11.0, 8.5, 12.5, 11.0, 8.5, 12.0, 7.5, 11.0, 9.0, 12.5, 11.0, 8.5, 8.0, 9.0, 8.5, 9.5, 9.0, 12.0, 10.5, 12.0, 8.0, 7.5, 12.0, 11.0, 11.0, 10.5, 7.5, 13.5, 12.0, 12.0, 7.5, 11.5, 9.0, 8.0, 8.0, 9.0, 13.0, 11.5, 11.0, 12.5, 12.0, 13.0, 11.5, 12.0, 12.0, 9.5, 12.0, 8.5, 12.0, 8.0, 9.0, 10.0, 7.0, 9.5, 11.0, 11.5, 8.5, 12.0, 10.5, 7.0, 12.0, 11.5, 7.5, 7.5, 13.0, 13.0, 8.5, 8.0, 11.5, 12.0, 12.0, 13.0, 10.0, 12.0, 11.0, 7.5, 11.0, 13.5, 8.0, 12.0, 11.0, 12.0, 12.0, 7.0, 12.5, 9.5, 9.5, 12.0, 12.0, 12.0, 11.0, 9.0, 10.5, 9.0, 8.5, 9.5, 8.5, 8.0, 9.5, 10.5, 9.0, 7.5, 11.5, 10.0, 8.0, 11.0, 8.5, 10.0, 13.5, 12.5, 13.5, 8.5, 8.0, 11.5, 11.0, 8.5, 10.0, 12.0, 7.5, 9.5, 8.0, 8.5, 9.0, 9.0, 10.0, 8.5, 12.5, 9.0, 10.0, 10.0, 12.5, 9.5, 11.0, 8.0, 12.0, 13.0, 11.5, 13.5, 7.0, 9.5, 11.5, 12.0, 8.0, 13.5, 10.5, 9.5, 11.0, 12.0, 8.5, 9.5, 12.5, 8.0, 9.5, 8.0, 13.0, 11.0]\n"
          ]
        }
      ]
    },
    {
      "cell_type": "code",
      "source": [
        "def transform_list_1(scores):\n",
        "    transformed_scores = []\n",
        "    for score in scores:\n",
        "        if score == 0:\n",
        "            transformed_scores.append(0)\n",
        "        elif score == 0.5:\n",
        "          transformed_scores.append(1)\n",
        "        elif score == 1:\n",
        "            transformed_scores.append(2)\n",
        "        elif score == 1.5:\n",
        "            transformed_scores.append(3)\n",
        "        elif score == 2:\n",
        "            transformed_scores.append(4)\n",
        "        elif score == 2.5:\n",
        "            transformed_scores.append(5)\n",
        "        elif score == 3:\n",
        "            transformed_scores.append(6)\n",
        "        elif score == 3.5:\n",
        "            transformed_scores.append(7)\n",
        "        elif score == 4:\n",
        "            transformed_scores.append(8)\n",
        "        elif score == 4.5:\n",
        "            transformed_scores.append(9)\n",
        "        elif score == 5:\n",
        "            transformed_scores.append(10)\n",
        "        elif score == 5.5:\n",
        "            transformed_scores.append(11)\n",
        "        elif score == 6:\n",
        "            transformed_scores.append(12)\n",
        "        elif score == 6.5:\n",
        "            transformed_scores.append(13)\n",
        "        elif score == 7:\n",
        "            transformed_scores.append(14)\n",
        "        elif score == 7.5:\n",
        "            transformed_scores.append(15)\n",
        "        elif score == 8:\n",
        "            transformed_scores.append(16)\n",
        "        elif score == 8.5:\n",
        "            transformed_scores.append(17)\n",
        "        elif score == 9:\n",
        "            transformed_scores.append(18)\n",
        "        elif score == 9.5:\n",
        "            transformed_scores.append(19)\n",
        "        elif score == 10:\n",
        "            transformed_scores.append(20)\n",
        "        elif score == 10.5:\n",
        "            transformed_scores.append(21)\n",
        "        elif score == 11:\n",
        "            transformed_scores.append(22)\n",
        "        elif score == 11.5:\n",
        "            transformed_scores.append(23)\n",
        "        elif score == 12:\n",
        "            transformed_scores.append(24)\n",
        "        elif score == 12.5:\n",
        "            transformed_scores.append(25)\n",
        "        elif score == 13:\n",
        "            transformed_scores.append(26)\n",
        "        elif score == 13.5:\n",
        "            transformed_scores.append(27)\n",
        "        elif score == 14:\n",
        "            transformed_scores.append(28)\n",
        "        elif score == 14.5:\n",
        "            transformed_scores.append(29)\n",
        "        elif score == 15:\n",
        "            transformed_scores.append(30)\n",
        "\n",
        "        else:\n",
        "            # Handle other cases if needed\n",
        "            pass\n",
        "    return transformed_scores\n",
        "\n",
        "def transform_list_2(scores):\n",
        "    transformed_scores = []\n",
        "    for score in scores:\n",
        "        if score == 0:\n",
        "            transformed_scores.append(0)\n",
        "        elif score == 0.5:\n",
        "          transformed_scores.append(1)\n",
        "        elif score == 1:\n",
        "            transformed_scores.append(2)\n",
        "        elif score == 1.5:\n",
        "            transformed_scores.append(3)\n",
        "        elif score == 2:\n",
        "            transformed_scores.append(4)\n",
        "        elif score == 2.5:\n",
        "            transformed_scores.append(5)\n",
        "        elif score == 3:\n",
        "            transformed_scores.append(6)\n",
        "        elif score == 3.5:\n",
        "            transformed_scores.append(7)\n",
        "        elif score == 4:\n",
        "            transformed_scores.append(8)\n",
        "        elif score == 4.5:\n",
        "            transformed_scores.append(9)\n",
        "        elif score == 5:\n",
        "            transformed_scores.append(10)\n",
        "        elif score == 5.5:\n",
        "            transformed_scores.append(11)\n",
        "        elif score == 6:\n",
        "            transformed_scores.append(12)\n",
        "        elif score == 6.5:\n",
        "            transformed_scores.append(13)\n",
        "        elif score == 7:\n",
        "            transformed_scores.append(14)\n",
        "        elif score == 7.5:\n",
        "            transformed_scores.append(15)\n",
        "        elif score == 8:\n",
        "            transformed_scores.append(16)\n",
        "        elif score == 8.5:\n",
        "            transformed_scores.append(17)\n",
        "        elif score == 9:\n",
        "            transformed_scores.append(18)\n",
        "        elif score == 9.5:\n",
        "            transformed_scores.append(19)\n",
        "        elif score == 10:\n",
        "            transformed_scores.append(20)\n",
        "        elif score == 10.5:\n",
        "            transformed_scores.append(21)\n",
        "        elif score == 11:\n",
        "            transformed_scores.append(22)\n",
        "        elif score == 11.5:\n",
        "            transformed_scores.append(23)\n",
        "        elif score == 12:\n",
        "            transformed_scores.append(24)\n",
        "        elif score == 12.5:\n",
        "            transformed_scores.append(25)\n",
        "        elif score == 13:\n",
        "            transformed_scores.append(26)\n",
        "        elif score == 13.5:\n",
        "            transformed_scores.append(27)\n",
        "        elif score == 14:\n",
        "            transformed_scores.append(28)\n",
        "        elif score == 14.5:\n",
        "            transformed_scores.append(29)\n",
        "        elif score == 15:\n",
        "            transformed_scores.append(30)\n",
        "        else:\n",
        "            # Handle other cases if needed\n",
        "            pass\n",
        "    return transformed_scores\n",
        "\n",
        "# Example usage:\n",
        "\n",
        "\n",
        "transformed_scores_1 = transform_list_1(total_dataset)\n",
        "transformed_scores_2 = transform_list_2(total_inference)\n",
        "\n",
        "print(\"Transformed Content Scores:\", transformed_scores_1)\n",
        "print(\"Transformed Content Score Inference:\", transformed_scores_2)\n"
      ],
      "metadata": {
        "colab": {
          "base_uri": "https://localhost:8080/"
        },
        "id": "ASoLr0PZnHGF",
        "outputId": "8c4714c6-a105-43b9-8016-0d49bc7387e9"
      },
      "execution_count": 170,
      "outputs": [
        {
          "output_type": "stream",
          "name": "stdout",
          "text": [
            "Transformed Content Scores: [20, 23, 21, 20, 29, 26, 18, 24, 24, 15, 21, 22, 24, 25, 24, 16, 20, 24, 21, 29, 24, 25, 23, 18, 15, 15, 24, 25, 26, 24, 28, 26, 18, 26, 15, 16, 26, 24, 23, 28, 22, 23, 24, 21, 26, 11, 21, 23, 16, 22, 16, 19, 29, 13, 19, 24, 18, 9, 26, 17, 20, 19, 24, 16, 20, 15, 16, 26, 17, 15, 21, 18, 27, 18, 17, 24, 24, 15, 22, 29, 18, 22, 24, 23, 16, 23, 22, 13, 19, 25, 29, 23, 22, 18, 19, 14, 18, 21, 21, 27, 24, 21, 19, 20, 23, 27, 27, 28, 13, 24, 21, 24, 24, 23, 17, 23, 22, 24, 11, 19, 25, 7, 18, 15, 22, 25, 23, 16, 22, 25, 22, 22, 17, 28, 20, 22, 27, 11, 23, 19, 19, 20, 19, 17, 16, 15, 21, 17, 22, 16, 26, 20, 25, 16, 14, 27, 20, 13, 24, 27, 18, 11, 16, 26, 16, 20, 22, 21, 17, 24, 17, 11, 26, 12, 13, 19, 27, 19, 27, 18, 19, 25, 16, 24, 21, 20, 24, 25, 17, 25, 18, 24, 13, 23, 22, 26, 26, 21, 21, 28, 22, 19, 25, 13, 19, 25, 24, 19, 27, 24, 19, 22, 21, 25, 20, 24, 26, 12, 19, 25, 19, 22, 26, 27, 25, 15, 17, 24, 24, 23, 21, 24, 28, 9, 27, 26, 26, 24, 20, 15, 25, 18, 24, 21, 22, 26, 20, 20, 16, 24, 24, 17, 16, 21, 19, 19, 18, 25, 22, 23, 11, 11, 26, 20, 21, 23, 18, 27, 26, 23, 10, 21, 16, 21, 20, 17, 26, 22, 24, 24, 24, 27, 20, 21, 25, 17, 26, 13, 27, 18, 18, 19, 8, 22, 22, 17, 20, 23, 21, 19, 21, 27, 17, 21, 24, 26, 16, 19, 23, 21, 27, 24, 18, 24, 18, 8, 21, 26, 12, 19, 20, 25, 23, 17, 25, 16, 15, 24, 25, 24, 22, 18, 17, 19, 16, 16, 19, 14, 22, 18, 18, 16, 22, 24, 14, 20, 17, 19, 25, 24, 25, 18, 15, 16, 25, 10, 20, 25, 17, 15, 10, 16, 16, 19, 21, 18, 26, 16, 17, 21, 22, 22, 18, 17, 22, 24, 22, 26, 11, 18, 19, 29, 18, 26, 21, 20, 21, 21, 19, 22, 22, 18, 12, 10, 23, 16]\n",
            "Transformed Content Score Inference: [22, 21, 21, 20, 26, 27, 19, 27, 24, 15, 20, 24, 24, 24, 24, 17, 23, 24, 26, 24, 19, 23, 23, 18, 18, 17, 23, 24, 26, 24, 27, 27, 23, 24, 19, 16, 27, 24, 22, 25, 24, 23, 25, 25, 26, 16, 18, 27, 19, 17, 16, 18, 25, 15, 17, 23, 16, 15, 25, 19, 21, 21, 24, 18, 25, 16, 16, 22, 16, 15, 21, 19, 24, 17, 16, 24, 25, 15, 16, 27, 24, 25, 24, 17, 15, 25, 20, 18, 17, 26, 24, 24, 18, 17, 19, 23, 22, 26, 23, 24, 23, 22, 23, 18, 24, 24, 25, 23, 23, 22, 18, 17, 23, 19, 15, 18, 22, 25, 17, 19, 19, 16, 18, 18, 15, 25, 17, 17, 22, 19, 24, 23, 15, 25, 23, 17, 26, 14, 27, 20, 22, 16, 18, 15, 17, 17, 19, 18, 25, 18, 24, 18, 25, 23, 18, 25, 23, 18, 25, 24, 16, 15, 15, 24, 14, 25, 26, 25, 15, 24, 20, 17, 26, 16, 19, 24, 23, 17, 24, 24, 17, 24, 18, 24, 19, 22, 25, 24, 20, 23, 17, 26, 19, 26, 24, 22, 21, 19, 18, 22, 24, 20, 26, 16, 25, 24, 23, 18, 24, 24, 16, 24, 24, 26, 24, 25, 26, 19, 17, 21, 15, 19, 25, 26, 23, 17, 17, 24, 25, 25, 25, 22, 24, 15, 26, 27, 22, 17, 22, 15, 22, 17, 25, 22, 17, 24, 15, 22, 18, 25, 22, 17, 16, 18, 17, 19, 18, 24, 21, 24, 16, 15, 24, 22, 22, 21, 15, 27, 24, 24, 15, 23, 18, 16, 16, 18, 26, 23, 22, 25, 24, 26, 23, 24, 24, 19, 24, 17, 24, 16, 18, 20, 14, 19, 22, 23, 17, 24, 21, 14, 24, 23, 15, 15, 26, 26, 17, 16, 23, 24, 24, 26, 20, 24, 22, 15, 22, 27, 16, 24, 22, 24, 24, 14, 25, 19, 19, 24, 24, 24, 22, 18, 21, 18, 17, 19, 17, 16, 19, 21, 18, 15, 23, 20, 16, 22, 17, 20, 27, 25, 27, 17, 16, 23, 22, 17, 20, 24, 15, 19, 16, 17, 18, 18, 20, 17, 25, 18, 20, 20, 25, 19, 22, 16, 24, 26, 23, 27, 14, 19, 23, 24, 16, 27, 21, 19, 22, 24, 17, 19, 25, 16, 19, 16, 26, 22]\n"
          ]
        }
      ]
    },
    {
      "cell_type": "code",
      "source": [
        "len(transformed_scores_1\n",
        "    )"
      ],
      "metadata": {
        "colab": {
          "base_uri": "https://localhost:8080/"
        },
        "id": "c2Jb4JvqsraB",
        "outputId": "c6d19868-af4f-479c-f7aa-17c4dc420907"
      },
      "execution_count": 171,
      "outputs": [
        {
          "output_type": "execute_result",
          "data": {
            "text/plain": [
              "396"
            ]
          },
          "metadata": {},
          "execution_count": 171
        }
      ]
    },
    {
      "cell_type": "code",
      "source": [
        "from sklearn.metrics import cohen_kappa_score\n",
        "\n",
        "print(\"QWK: \", cohen_kappa_score(transformed_scores_2, transformed_scores_1, weights=\"quadratic\"))"
      ],
      "metadata": {
        "colab": {
          "base_uri": "https://localhost:8080/"
        },
        "id": "_uO6ZgR9puZ3",
        "outputId": "1bc4d675-ae8b-47ac-de8d-d416ddb4c444"
      },
      "execution_count": 172,
      "outputs": [
        {
          "output_type": "stream",
          "name": "stdout",
          "text": [
            "QWK:  0.7307925367869837\n"
          ]
        }
      ]
    },
    {
      "cell_type": "code",
      "source": [
        "len(transformed_scores_1)"
      ],
      "metadata": {
        "colab": {
          "base_uri": "https://localhost:8080/"
        },
        "id": "ZOG1tX60p2I-",
        "outputId": "d7730620-bb7e-4fe1-ce59-782b54dafdfd"
      },
      "execution_count": 122,
      "outputs": [
        {
          "output_type": "execute_result",
          "data": {
            "text/plain": [
              "394"
            ]
          },
          "metadata": {},
          "execution_count": 122
        }
      ]
    },
    {
      "cell_type": "code",
      "source": [],
      "metadata": {
        "id": "DZsz55B_qF8Z"
      },
      "execution_count": null,
      "outputs": []
    }
  ]
}